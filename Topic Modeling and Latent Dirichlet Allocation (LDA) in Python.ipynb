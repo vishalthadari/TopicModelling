{
 "cells": [
  {
   "cell_type": "code",
   "execution_count": 1,
   "metadata": {},
   "outputs": [],
   "source": [
    "import pandas as pd\n",
    "\n",
    "data = pd.read_csv('file:///home/vishalthadari/Downloads/abcnews-date-text.csv', error_bad_lines=False);\n",
    "data_text = data[['headline_text']]\n",
    "data_text['index'] = data_text.index\n",
    "documents = data_text"
   ]
  },
  {
   "cell_type": "code",
   "execution_count": 3,
   "metadata": {},
   "outputs": [
    {
     "data": {
      "text/html": [
       "<div>\n",
       "<style scoped>\n",
       "    .dataframe tbody tr th:only-of-type {\n",
       "        vertical-align: middle;\n",
       "    }\n",
       "\n",
       "    .dataframe tbody tr th {\n",
       "        vertical-align: top;\n",
       "    }\n",
       "\n",
       "    .dataframe thead th {\n",
       "        text-align: right;\n",
       "    }\n",
       "</style>\n",
       "<table border=\"1\" class=\"dataframe\">\n",
       "  <thead>\n",
       "    <tr style=\"text-align: right;\">\n",
       "      <th></th>\n",
       "      <th>publish_date</th>\n",
       "      <th>headline_text</th>\n",
       "    </tr>\n",
       "  </thead>\n",
       "  <tbody>\n",
       "    <tr>\n",
       "      <th>0</th>\n",
       "      <td>20030219</td>\n",
       "      <td>aba decides against community broadcasting lic...</td>\n",
       "    </tr>\n",
       "    <tr>\n",
       "      <th>1</th>\n",
       "      <td>20030219</td>\n",
       "      <td>act fire witnesses must be aware of defamation</td>\n",
       "    </tr>\n",
       "    <tr>\n",
       "      <th>2</th>\n",
       "      <td>20030219</td>\n",
       "      <td>a g calls for infrastructure protection summit</td>\n",
       "    </tr>\n",
       "    <tr>\n",
       "      <th>3</th>\n",
       "      <td>20030219</td>\n",
       "      <td>air nz staff in aust strike for pay rise</td>\n",
       "    </tr>\n",
       "    <tr>\n",
       "      <th>4</th>\n",
       "      <td>20030219</td>\n",
       "      <td>air nz strike to affect australian travellers</td>\n",
       "    </tr>\n",
       "  </tbody>\n",
       "</table>\n",
       "</div>"
      ],
      "text/plain": [
       "   publish_date                                      headline_text\n",
       "0      20030219  aba decides against community broadcasting lic...\n",
       "1      20030219     act fire witnesses must be aware of defamation\n",
       "2      20030219     a g calls for infrastructure protection summit\n",
       "3      20030219           air nz staff in aust strike for pay rise\n",
       "4      20030219      air nz strike to affect australian travellers"
      ]
     },
     "execution_count": 3,
     "metadata": {},
     "output_type": "execute_result"
    }
   ],
   "source": [
    "data.head()"
   ]
  },
  {
   "cell_type": "code",
   "execution_count": 6,
   "metadata": {},
   "outputs": [
    {
     "name": "stdout",
     "output_type": "stream",
     "text": [
      "1103665\n",
      "                                       headline_text  index\n",
      "0  aba decides against community broadcasting lic...      0\n",
      "1     act fire witnesses must be aware of defamation      1\n",
      "2     a g calls for infrastructure protection summit      2\n",
      "3           air nz staff in aust strike for pay rise      3\n",
      "4      air nz strike to affect australian travellers      4\n"
     ]
    }
   ],
   "source": [
    "print(len(documents))\n",
    "print(documents[:5])"
   ]
  },
  {
   "cell_type": "code",
   "execution_count": 24,
   "metadata": {},
   "outputs": [
    {
     "name": "stdout",
     "output_type": "stream",
     "text": [
      "[nltk_data] Downloading package wordnet to\n",
      "[nltk_data]     /home/vishalthadari/nltk_data...\n",
      "[nltk_data]   Package wordnet is already up-to-date!\n"
     ]
    },
    {
     "data": {
      "text/plain": [
       "True"
      ]
     },
     "execution_count": 24,
     "metadata": {},
     "output_type": "execute_result"
    }
   ],
   "source": [
    "import gensim\n",
    "from gensim.utils import simple_preprocess\n",
    "from gensim.parsing.preprocessing import STOPWORDS\n",
    "from nltk.stem import WordNetLemmatizer, SnowballStemmer\n",
    "from nltk.stem.porter import *\n",
    "import numpy as np\n",
    "np.random.seed(2018)\n",
    "\n",
    "import nltk\n",
    "nltk.download('wordnet')"
   ]
  },
  {
   "cell_type": "code",
   "execution_count": 31,
   "metadata": {},
   "outputs": [],
   "source": [
    "Stemmer = SnowballStemmer(\"english\")"
   ]
  },
  {
   "cell_type": "code",
   "execution_count": 32,
   "metadata": {},
   "outputs": [],
   "source": [
    "def lemmatize_stemming(text):\n",
    "    return Stemmer.stem(WordNetLemmatizer().lemmatize(text, pos='v'))\n",
    "\n",
    "def preprocess(text):\n",
    "    result = []\n",
    "    for token in gensim.utils.simple_preprocess(text):\n",
    "        if token not in gensim.parsing.preprocessing.STOPWORDS and len(token) > 3:\n",
    "            result.append(lemmatize_stemming(token))\n",
    "    return result"
   ]
  },
  {
   "cell_type": "code",
   "execution_count": 33,
   "metadata": {},
   "outputs": [
    {
     "data": {
      "text/plain": [
       "'rain helps dampen bushfires'"
      ]
     },
     "execution_count": 33,
     "metadata": {},
     "output_type": "execute_result"
    }
   ],
   "source": [
    "doc_sample = documents[documents['index'] == 4310].values[0][0]\n",
    "doc_sample"
   ]
  },
  {
   "cell_type": "code",
   "execution_count": 34,
   "metadata": {},
   "outputs": [
    {
     "name": "stdout",
     "output_type": "stream",
     "text": [
      "original document: \n"
     ]
    }
   ],
   "source": [
    "print('original document: ')\n",
    "words = []\n",
    "for word in doc_sample.split(' '):\n",
    "    words.append(word)"
   ]
  },
  {
   "cell_type": "code",
   "execution_count": 35,
   "metadata": {},
   "outputs": [
    {
     "name": "stdout",
     "output_type": "stream",
     "text": [
      "['rain', 'helps', 'dampen', 'bushfires']\n",
      "\n",
      "\n",
      " tokenized and lemmatized document: \n",
      "['rain', 'help', 'dampen', 'bushfir']\n"
     ]
    }
   ],
   "source": [
    "print(words)\n",
    "print('\\n\\n tokenized and lemmatized document: ')\n",
    "print(preprocess(doc_sample))"
   ]
  },
  {
   "cell_type": "code",
   "execution_count": 36,
   "metadata": {},
   "outputs": [
    {
     "data": {
      "text/plain": [
       "0            [decid, communiti, broadcast, licenc]\n",
       "1                               [wit, awar, defam]\n",
       "2           [call, infrastructur, protect, summit]\n",
       "3                      [staff, aust, strike, rise]\n",
       "4             [strike, affect, australian, travel]\n",
       "5               [ambiti, olsson, win, tripl, jump]\n",
       "6           [antic, delight, record, break, barca]\n",
       "7    [aussi, qualifi, stosur, wast, memphi, match]\n",
       "8            [aust, address, secur, council, iraq]\n",
       "9                         [australia, lock, timet]\n",
       "Name: headline_text, dtype: object"
      ]
     },
     "execution_count": 36,
     "metadata": {},
     "output_type": "execute_result"
    }
   ],
   "source": [
    "processed_docs = documents['headline_text'].map(preprocess)\n",
    "processed_docs[:10]"
   ]
  },
  {
   "cell_type": "code",
   "execution_count": 42,
   "metadata": {},
   "outputs": [
    {
     "name": "stdout",
     "output_type": "stream",
     "text": [
      "0 broadcast\n",
      "1 communiti\n",
      "2 decid\n",
      "3 licenc\n",
      "4 awar\n",
      "5 defam\n",
      "6 wit\n",
      "7 call\n",
      "8 infrastructur\n",
      "9 protect\n",
      "10 summit\n"
     ]
    }
   ],
   "source": [
    "dictionary = gensim.corpora.Dictionary(processed_docs)\n",
    "count = 0\n",
    "for k, v in dictionary.iteritems():\n",
    "    print(k, v)\n",
    "    count += 1\n",
    "    if count > 10:\n",
    "        break"
   ]
  },
  {
   "cell_type": "code",
   "execution_count": 38,
   "metadata": {},
   "outputs": [],
   "source": [
    "dictionary.filter_extremes(no_below=15, no_above=0.5, keep_n=100000)"
   ]
  },
  {
   "cell_type": "code",
   "execution_count": 39,
   "metadata": {},
   "outputs": [
    {
     "data": {
      "text/plain": [
       "[(76, 1), (112, 1), (483, 1), (4014, 1)]"
      ]
     },
     "execution_count": 39,
     "metadata": {},
     "output_type": "execute_result"
    }
   ],
   "source": [
    "bow_corpus = [dictionary.doc2bow(doc) for doc in processed_docs]\n",
    "bow_corpus[4310]"
   ]
  },
  {
   "cell_type": "code",
   "execution_count": 46,
   "metadata": {},
   "outputs": [
    {
     "name": "stdout",
     "output_type": "stream",
     "text": [
      "Word 167 (\"govt\") appears 1 time.\n",
      "Word 245 (\"group\") appears 1 time.\n",
      "Word 298 (\"vote\") appears 1 time.\n",
      "Word 601 (\"local\") appears 1 time.\n",
      "Word 866 (\"want\") appears 1 time.\n",
      "Word 3878 (\"compulsori\") appears 1 time.\n",
      "Word 3879 (\"ratepay\") appears 1 time.\n"
     ]
    }
   ],
   "source": [
    "bow_doc_4310 = bow_corpus[4311]\n",
    "\n",
    "for i in range(len(bow_doc_4310)):\n",
    "    print(\"Word {} (\\\"{}\\\") appears {} time.\".format(bow_doc_4310[i][0], \n",
    "                                               dictionary[bow_doc_4310[i][0]], \n",
    "bow_doc_4310[i][1]))"
   ]
  },
  {
   "cell_type": "code",
   "execution_count": 47,
   "metadata": {},
   "outputs": [
    {
     "name": "stdout",
     "output_type": "stream",
     "text": [
      "[(0, 0.5892908644709983),\n",
      " (1, 0.38929657403503015),\n",
      " (2, 0.4964985198530063),\n",
      " (3, 0.5046520328695662)]\n"
     ]
    }
   ],
   "source": [
    "from gensim import corpora, models\n",
    "\n",
    "tfidf = models.TfidfModel(bow_corpus)\n",
    "corpus_tfidf = tfidf[bow_corpus]\n",
    "\n",
    "from pprint import pprint\n",
    "\n",
    "for doc in corpus_tfidf:\n",
    "    pprint(doc)\n",
    "    break"
   ]
  },
  {
   "cell_type": "code",
   "execution_count": 48,
   "metadata": {},
   "outputs": [
    {
     "name": "stdout",
     "output_type": "stream",
     "text": [
      "[(0, 0.5892908644709983),\n",
      " (1, 0.38929657403503015),\n",
      " (2, 0.4964985198530063),\n",
      " (3, 0.5046520328695662)]\n"
     ]
    }
   ],
   "source": [
    "from gensim import corpora, models\n",
    "\n",
    "tfidf = models.TfidfModel(bow_corpus)\n",
    "corpus_tfidf = tfidf[bow_corpus]\n",
    "\n",
    "from pprint import pprint\n",
    "\n",
    "for doc in corpus_tfidf:\n",
    "    pprint(doc)\n",
    "    break"
   ]
  },
  {
   "cell_type": "code",
   "execution_count": 49,
   "metadata": {},
   "outputs": [],
   "source": [
    "lda_model = gensim.models.LdaMulticore(bow_corpus, num_topics=10, id2word=dictionary, passes=2, workers=2)"
   ]
  },
  {
   "cell_type": "code",
   "execution_count": 50,
   "metadata": {},
   "outputs": [
    {
     "name": "stdout",
     "output_type": "stream",
     "text": [
      "Topic: 0 \n",
      "Words: 0.018*\"market\" + 0.013*\"turnbul\" + 0.013*\"share\" + 0.012*\"break\" + 0.012*\"deal\" + 0.012*\"life\" + 0.012*\"rise\" + 0.011*\"worker\" + 0.011*\"bank\" + 0.010*\"china\"\n",
      "Topic: 1 \n",
      "Words: 0.021*\"north\" + 0.018*\"help\" + 0.017*\"state\" + 0.012*\"farmer\" + 0.012*\"leagu\" + 0.011*\"victoria\" + 0.011*\"busi\" + 0.010*\"centr\" + 0.009*\"game\" + 0.009*\"john\"\n",
      "Topic: 2 \n",
      "Words: 0.020*\"canberra\" + 0.018*\"die\" + 0.016*\"rural\" + 0.016*\"hospit\" + 0.015*\"donald\" + 0.014*\"dead\" + 0.013*\"work\" + 0.012*\"melbourn\" + 0.012*\"train\" + 0.011*\"crash\"\n",
      "Topic: 3 \n",
      "Words: 0.033*\"trump\" + 0.021*\"court\" + 0.019*\"face\" + 0.017*\"alleg\" + 0.016*\"health\" + 0.014*\"say\" + 0.012*\"servic\" + 0.012*\"trial\" + 0.011*\"tell\" + 0.010*\"peopl\"\n",
      "Topic: 4 \n",
      "Words: 0.046*\"polic\" + 0.027*\"charg\" + 0.021*\"death\" + 0.020*\"murder\" + 0.017*\"woman\" + 0.017*\"perth\" + 0.014*\"brisban\" + 0.014*\"interview\" + 0.014*\"jail\" + 0.013*\"miss\"\n",
      "Topic: 5 \n",
      "Words: 0.022*\"kill\" + 0.015*\"tasmania\" + 0.013*\"island\" + 0.011*\"citi\" + 0.010*\"attack\" + 0.010*\"final\" + 0.009*\"liber\" + 0.008*\"station\" + 0.008*\"australia\" + 0.008*\"show\"\n",
      "Topic: 6 \n",
      "Words: 0.025*\"elect\" + 0.021*\"plan\" + 0.016*\"council\" + 0.013*\"school\" + 0.012*\"hous\" + 0.011*\"nation\" + 0.011*\"student\" + 0.010*\"chang\" + 0.009*\"news\" + 0.009*\"vote\"\n",
      "Topic: 7 \n",
      "Words: 0.024*\"world\" + 0.022*\"south\" + 0.021*\"australian\" + 0.019*\"open\" + 0.017*\"test\" + 0.017*\"countri\" + 0.016*\"australia\" + 0.014*\"hour\" + 0.013*\"sydney\" + 0.013*\"arrest\"\n",
      "Topic: 8 \n",
      "Words: 0.033*\"govern\" + 0.025*\"year\" + 0.015*\"child\" + 0.013*\"gold\" + 0.012*\"take\" + 0.012*\"abus\" + 0.011*\"win\" + 0.010*\"coast\" + 0.010*\"releas\" + 0.009*\"aborigin\"\n",
      "Topic: 9 \n",
      "Words: 0.028*\"queensland\" + 0.017*\"live\" + 0.017*\"famili\" + 0.015*\"tasmanian\" + 0.014*\"labor\" + 0.013*\"fight\" + 0.013*\"price\" + 0.011*\"return\" + 0.011*\"industri\" + 0.010*\"senat\"\n"
     ]
    }
   ],
   "source": [
    "for idx, topic in lda_model.print_topics(-1):\n",
    "    print('Topic: {} \\nWords: {}'.format(idx, topic))"
   ]
  },
  {
   "cell_type": "code",
   "execution_count": 51,
   "metadata": {},
   "outputs": [
    {
     "name": "stdout",
     "output_type": "stream",
     "text": [
      "Topic: 0 Word: 0.016*\"charg\" + 0.014*\"murder\" + 0.013*\"polic\" + 0.011*\"court\" + 0.010*\"alleg\" + 0.009*\"jail\" + 0.008*\"assault\" + 0.008*\"arrest\" + 0.007*\"accus\" + 0.007*\"woman\"\n",
      "Topic: 1 Word: 0.012*\"trump\" + 0.009*\"govern\" + 0.007*\"rural\" + 0.007*\"health\" + 0.007*\"fund\" + 0.006*\"council\" + 0.005*\"budget\" + 0.005*\"plan\" + 0.005*\"cut\" + 0.005*\"say\"\n",
      "Topic: 2 Word: 0.010*\"turnbul\" + 0.008*\"grandstand\" + 0.007*\"ash\" + 0.007*\"plead\" + 0.006*\"wednesday\" + 0.005*\"kill\" + 0.005*\"syria\" + 0.005*\"russia\" + 0.005*\"suicid\" + 0.004*\"legal\"\n",
      "Topic: 3 Word: 0.010*\"interview\" + 0.009*\"weather\" + 0.007*\"australia\" + 0.006*\"world\" + 0.006*\"leagu\" + 0.006*\"monday\" + 0.006*\"rugbi\" + 0.005*\"cricket\" + 0.005*\"mount\" + 0.005*\"test\"\n",
      "Topic: 4 Word: 0.008*\"tasmania\" + 0.007*\"climat\" + 0.005*\"toni\" + 0.005*\"capit\" + 0.005*\"jam\" + 0.004*\"onlin\" + 0.004*\"quarter\" + 0.004*\"kid\" + 0.004*\"interview\" + 0.004*\"paul\"\n",
      "Topic: 5 Word: 0.011*\"drum\" + 0.007*\"friday\" + 0.006*\"michael\" + 0.006*\"asylum\" + 0.006*\"wall\" + 0.005*\"seeker\" + 0.005*\"smith\" + 0.005*\"blog\" + 0.005*\"anim\" + 0.005*\"fiji\"\n",
      "Topic: 6 Word: 0.014*\"crash\" + 0.009*\"polic\" + 0.008*\"miss\" + 0.007*\"search\" + 0.007*\"die\" + 0.006*\"marriag\" + 0.006*\"road\" + 0.006*\"woman\" + 0.006*\"truck\" + 0.006*\"death\"\n",
      "Topic: 7 Word: 0.006*\"final\" + 0.006*\"tuesday\" + 0.006*\"malcolm\" + 0.005*\"univers\" + 0.005*\"live\" + 0.004*\"spring\" + 0.004*\"grand\" + 0.004*\"australia\" + 0.004*\"shorten\" + 0.004*\"open\"\n",
      "Topic: 8 Word: 0.013*\"news\" + 0.012*\"market\" + 0.008*\"share\" + 0.007*\"christma\" + 0.006*\"australian\" + 0.006*\"royal\" + 0.005*\"decemb\" + 0.005*\"august\" + 0.005*\"dollar\" + 0.005*\"busi\"\n",
      "Topic: 9 Word: 0.021*\"countri\" + 0.019*\"hour\" + 0.010*\"podcast\" + 0.006*\"octob\" + 0.006*\"novemb\" + 0.005*\"stori\" + 0.005*\"peter\" + 0.005*\"quiz\" + 0.005*\"andrew\" + 0.004*\"queensland\"\n"
     ]
    }
   ],
   "source": [
    "lda_model_tfidf = gensim.models.LdaMulticore(corpus_tfidf, num_topics=10, id2word=dictionary, passes=2, workers=4)\n",
    "\n",
    "for idx, topic in lda_model_tfidf.print_topics(-1):\n",
    "    print('Topic: {} Word: {}'.format(idx, topic))"
   ]
  },
  {
   "cell_type": "code",
   "execution_count": 52,
   "metadata": {},
   "outputs": [
    {
     "data": {
      "text/plain": [
       "['rain', 'help', 'dampen', 'bushfir']"
      ]
     },
     "execution_count": 52,
     "metadata": {},
     "output_type": "execute_result"
    }
   ],
   "source": [
    "processed_docs[4310]"
   ]
  },
  {
   "cell_type": "code",
   "execution_count": 53,
   "metadata": {},
   "outputs": [
    {
     "name": "stdout",
     "output_type": "stream",
     "text": [
      "\n",
      "Score: 0.8199950456619263\t \n",
      "Topic: 0.021*\"north\" + 0.018*\"help\" + 0.017*\"state\" + 0.012*\"farmer\" + 0.012*\"leagu\" + 0.011*\"victoria\" + 0.011*\"busi\" + 0.010*\"centr\" + 0.009*\"game\" + 0.009*\"john\"\n",
      "\n",
      "Score: 0.020004184916615486\t \n",
      "Topic: 0.046*\"polic\" + 0.027*\"charg\" + 0.021*\"death\" + 0.020*\"murder\" + 0.017*\"woman\" + 0.017*\"perth\" + 0.014*\"brisban\" + 0.014*\"interview\" + 0.014*\"jail\" + 0.013*\"miss\"\n",
      "\n",
      "Score: 0.020000644028186798\t \n",
      "Topic: 0.033*\"trump\" + 0.021*\"court\" + 0.019*\"face\" + 0.017*\"alleg\" + 0.016*\"health\" + 0.014*\"say\" + 0.012*\"servic\" + 0.012*\"trial\" + 0.011*\"tell\" + 0.010*\"peopl\"\n",
      "\n",
      "Score: 0.02000010386109352\t \n",
      "Topic: 0.024*\"world\" + 0.022*\"south\" + 0.021*\"australian\" + 0.019*\"open\" + 0.017*\"test\" + 0.017*\"countri\" + 0.016*\"australia\" + 0.014*\"hour\" + 0.013*\"sydney\" + 0.013*\"arrest\"\n",
      "\n",
      "Score: 0.019999997690320015\t \n",
      "Topic: 0.018*\"market\" + 0.013*\"turnbul\" + 0.013*\"share\" + 0.012*\"break\" + 0.012*\"deal\" + 0.012*\"life\" + 0.012*\"rise\" + 0.011*\"worker\" + 0.011*\"bank\" + 0.010*\"china\"\n",
      "\n",
      "Score: 0.019999997690320015\t \n",
      "Topic: 0.020*\"canberra\" + 0.018*\"die\" + 0.016*\"rural\" + 0.016*\"hospit\" + 0.015*\"donald\" + 0.014*\"dead\" + 0.013*\"work\" + 0.012*\"melbourn\" + 0.012*\"train\" + 0.011*\"crash\"\n",
      "\n",
      "Score: 0.019999997690320015\t \n",
      "Topic: 0.022*\"kill\" + 0.015*\"tasmania\" + 0.013*\"island\" + 0.011*\"citi\" + 0.010*\"attack\" + 0.010*\"final\" + 0.009*\"liber\" + 0.008*\"station\" + 0.008*\"australia\" + 0.008*\"show\"\n",
      "\n",
      "Score: 0.019999997690320015\t \n",
      "Topic: 0.025*\"elect\" + 0.021*\"plan\" + 0.016*\"council\" + 0.013*\"school\" + 0.012*\"hous\" + 0.011*\"nation\" + 0.011*\"student\" + 0.010*\"chang\" + 0.009*\"news\" + 0.009*\"vote\"\n",
      "\n",
      "Score: 0.019999997690320015\t \n",
      "Topic: 0.033*\"govern\" + 0.025*\"year\" + 0.015*\"child\" + 0.013*\"gold\" + 0.012*\"take\" + 0.012*\"abus\" + 0.011*\"win\" + 0.010*\"coast\" + 0.010*\"releas\" + 0.009*\"aborigin\"\n",
      "\n",
      "Score: 0.019999997690320015\t \n",
      "Topic: 0.028*\"queensland\" + 0.017*\"live\" + 0.017*\"famili\" + 0.015*\"tasmanian\" + 0.014*\"labor\" + 0.013*\"fight\" + 0.013*\"price\" + 0.011*\"return\" + 0.011*\"industri\" + 0.010*\"senat\"\n"
     ]
    }
   ],
   "source": [
    "for index, score in sorted(lda_model[bow_corpus[4310]], key=lambda tup: -1*tup[1]):\n",
    "    print(\"\\nScore: {}\\t \\nTopic: {}\".format(score, lda_model.print_topic(index, 10)))"
   ]
  },
  {
   "cell_type": "code",
   "execution_count": 54,
   "metadata": {},
   "outputs": [
    {
     "name": "stdout",
     "output_type": "stream",
     "text": [
      "\n",
      "Score: 0.6390663981437683\t \n",
      "Topic: 0.010*\"interview\" + 0.009*\"weather\" + 0.007*\"australia\" + 0.006*\"world\" + 0.006*\"leagu\" + 0.006*\"monday\" + 0.006*\"rugbi\" + 0.005*\"cricket\" + 0.005*\"mount\" + 0.005*\"test\"\n",
      "\n",
      "Score: 0.20090974867343903\t \n",
      "Topic: 0.014*\"crash\" + 0.009*\"polic\" + 0.008*\"miss\" + 0.007*\"search\" + 0.007*\"die\" + 0.006*\"marriag\" + 0.006*\"road\" + 0.006*\"woman\" + 0.006*\"truck\" + 0.006*\"death\"\n",
      "\n",
      "Score: 0.020006900653243065\t \n",
      "Topic: 0.012*\"trump\" + 0.009*\"govern\" + 0.007*\"rural\" + 0.007*\"health\" + 0.007*\"fund\" + 0.006*\"council\" + 0.005*\"budget\" + 0.005*\"plan\" + 0.005*\"cut\" + 0.005*\"say\"\n",
      "\n",
      "Score: 0.02000351995229721\t \n",
      "Topic: 0.011*\"drum\" + 0.007*\"friday\" + 0.006*\"michael\" + 0.006*\"asylum\" + 0.006*\"wall\" + 0.005*\"seeker\" + 0.005*\"smith\" + 0.005*\"blog\" + 0.005*\"anim\" + 0.005*\"fiji\"\n",
      "\n",
      "Score: 0.02000277303159237\t \n",
      "Topic: 0.021*\"countri\" + 0.019*\"hour\" + 0.010*\"podcast\" + 0.006*\"octob\" + 0.006*\"novemb\" + 0.005*\"stori\" + 0.005*\"peter\" + 0.005*\"quiz\" + 0.005*\"andrew\" + 0.004*\"queensland\"\n",
      "\n",
      "Score: 0.020002735778689384\t \n",
      "Topic: 0.008*\"tasmania\" + 0.007*\"climat\" + 0.005*\"toni\" + 0.005*\"capit\" + 0.005*\"jam\" + 0.004*\"onlin\" + 0.004*\"quarter\" + 0.004*\"kid\" + 0.004*\"interview\" + 0.004*\"paul\"\n",
      "\n",
      "Score: 0.0200022142380476\t \n",
      "Topic: 0.010*\"turnbul\" + 0.008*\"grandstand\" + 0.007*\"ash\" + 0.007*\"plead\" + 0.006*\"wednesday\" + 0.005*\"kill\" + 0.005*\"syria\" + 0.005*\"russia\" + 0.005*\"suicid\" + 0.004*\"legal\"\n",
      "\n",
      "Score: 0.020002160221338272\t \n",
      "Topic: 0.016*\"charg\" + 0.014*\"murder\" + 0.013*\"polic\" + 0.011*\"court\" + 0.010*\"alleg\" + 0.009*\"jail\" + 0.008*\"assault\" + 0.008*\"arrest\" + 0.007*\"accus\" + 0.007*\"woman\"\n",
      "\n",
      "Score: 0.020002001896500587\t \n",
      "Topic: 0.006*\"final\" + 0.006*\"tuesday\" + 0.006*\"malcolm\" + 0.005*\"univers\" + 0.005*\"live\" + 0.004*\"spring\" + 0.004*\"grand\" + 0.004*\"australia\" + 0.004*\"shorten\" + 0.004*\"open\"\n",
      "\n",
      "Score: 0.020001612603664398\t \n",
      "Topic: 0.013*\"news\" + 0.012*\"market\" + 0.008*\"share\" + 0.007*\"christma\" + 0.006*\"australian\" + 0.006*\"royal\" + 0.005*\"decemb\" + 0.005*\"august\" + 0.005*\"dollar\" + 0.005*\"busi\"\n"
     ]
    }
   ],
   "source": [
    "for index, score in sorted(lda_model_tfidf[bow_corpus[4310]], key=lambda tup: -1*tup[1]):\n",
    "    print(\"\\nScore: {}\\t \\nTopic: {}\".format(score, lda_model_tfidf.print_topic(index, 10)))"
   ]
  },
  {
   "cell_type": "code",
   "execution_count": 55,
   "metadata": {},
   "outputs": [
    {
     "name": "stdout",
     "output_type": "stream",
     "text": [
      "Score: 0.3500001132488251\t Topic: 0.018*\"market\" + 0.013*\"turnbul\" + 0.013*\"share\" + 0.012*\"break\" + 0.012*\"deal\"\n",
      "Score: 0.1833333522081375\t Topic: 0.021*\"north\" + 0.018*\"help\" + 0.017*\"state\" + 0.012*\"farmer\" + 0.012*\"leagu\"\n",
      "Score: 0.1833333522081375\t Topic: 0.020*\"canberra\" + 0.018*\"die\" + 0.016*\"rural\" + 0.016*\"hospit\" + 0.015*\"donald\"\n",
      "Score: 0.18333317339420319\t Topic: 0.025*\"elect\" + 0.021*\"plan\" + 0.016*\"council\" + 0.013*\"school\" + 0.012*\"hous\"\n",
      "Score: 0.01666666753590107\t Topic: 0.033*\"trump\" + 0.021*\"court\" + 0.019*\"face\" + 0.017*\"alleg\" + 0.016*\"health\"\n",
      "Score: 0.01666666753590107\t Topic: 0.046*\"polic\" + 0.027*\"charg\" + 0.021*\"death\" + 0.020*\"murder\" + 0.017*\"woman\"\n",
      "Score: 0.01666666753590107\t Topic: 0.022*\"kill\" + 0.015*\"tasmania\" + 0.013*\"island\" + 0.011*\"citi\" + 0.010*\"attack\"\n",
      "Score: 0.01666666753590107\t Topic: 0.024*\"world\" + 0.022*\"south\" + 0.021*\"australian\" + 0.019*\"open\" + 0.017*\"test\"\n",
      "Score: 0.01666666753590107\t Topic: 0.033*\"govern\" + 0.025*\"year\" + 0.015*\"child\" + 0.013*\"gold\" + 0.012*\"take\"\n",
      "Score: 0.01666666753590107\t Topic: 0.028*\"queensland\" + 0.017*\"live\" + 0.017*\"famili\" + 0.015*\"tasmanian\" + 0.014*\"labor\"\n"
     ]
    }
   ],
   "source": [
    "unseen_document = 'How a Pentagon deal became an identity crisis for Google'\n",
    "bow_vector = dictionary.doc2bow(preprocess(unseen_document))\n",
    "\n",
    "for index, score in sorted(lda_model[bow_vector], key=lambda tup: -1*tup[1]):\n",
    "    print(\"Score: {}\\t Topic: {}\".format(score, lda_model.print_topic(index, 5)))"
   ]
  },
  {
   "cell_type": "code",
   "execution_count": null,
   "metadata": {},
   "outputs": [],
   "source": []
  }
 ],
 "metadata": {
  "kernelspec": {
   "display_name": "Python 3",
   "language": "python",
   "name": "python3"
  },
  "language_info": {
   "codemirror_mode": {
    "name": "ipython",
    "version": 3
   },
   "file_extension": ".py",
   "mimetype": "text/x-python",
   "name": "python",
   "nbconvert_exporter": "python",
   "pygments_lexer": "ipython3",
   "version": "3.6.6"
  }
 },
 "nbformat": 4,
 "nbformat_minor": 2
}
